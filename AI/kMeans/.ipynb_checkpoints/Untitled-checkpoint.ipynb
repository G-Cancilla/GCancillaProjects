{
 "cells": [
  {
   "cell_type": "code",
   "execution_count": 68,
   "id": "0b98b0c4-0ca8-47b8-bb4a-dec7c316bce4",
   "metadata": {},
   "outputs": [],
   "source": [
    "import numpy as np\n",
    "import scipy.stats as sps\n",
    "import matplotlib.pyplot as plt\n",
    "%matplotlib inline"
   ]
  },
  {
   "cell_type": "code",
   "execution_count": 69,
   "id": "be235ee7-e528-48c5-8961-f2c84d824746",
   "metadata": {},
   "outputs": [],
   "source": [
    "## Load text file with pasted data\n",
    "data = np.loadtxt(\"irismeans.txt\")"
   ]
  },
  {
   "cell_type": "code",
   "execution_count": 70,
   "id": "fc6951d0-fb16-43ba-8128-afa6ad83026a",
   "metadata": {},
   "outputs": [
    {
     "data": {
      "text/plain": [
       "(140,)"
      ]
     },
     "execution_count": 70,
     "metadata": {},
     "output_type": "execute_result"
    }
   ],
   "source": [
    "np.shape(data)"
   ]
  },
  {
   "cell_type": "code",
   "execution_count": 71,
   "id": "c2a383e9-7bee-4d7e-953c-40fb63c7cf39",
   "metadata": {},
   "outputs": [
    {
     "data": {
      "text/plain": [
       "array([ 4.91,  7.43,  8.9 ,  9.07,  9.23,  9.47,  9.58,  9.6 ,  9.75,\n",
       "        9.62,  9.77,  9.71,  9.81,  9.77,  9.85,  9.89,  9.83,  9.86,\n",
       "        9.87,  9.96,  9.84,  9.88,  9.93,  9.84,  9.9 ,  9.88,  9.91,\n",
       "        9.93,  9.89,  9.9 ,  9.87,  9.91,  9.91,  9.95,  9.93,  9.89,\n",
       "        9.93,  9.86,  9.92,  9.9 ,  9.95,  9.95,  9.94,  9.96,  9.96,\n",
       "        9.97,  9.94,  9.96,  9.93,  9.94,  9.93,  9.94,  9.9 ,  9.96,\n",
       "        9.97,  9.92,  9.96,  9.91,  9.95,  9.95,  9.96,  9.95,  9.91,\n",
       "        9.97,  9.98,  9.96,  9.96,  9.99,  9.98,  9.98,  9.95,  9.94,\n",
       "        9.96,  9.94,  9.99,  9.98,  9.92,  9.98,  9.97,  9.95,  9.97,\n",
       "        9.97,  9.98,  9.99,  9.98,  9.99,  9.99,  9.95,  9.99,  9.98,\n",
       "        9.98, 10.  ,  9.98,  9.99,  9.98,  9.91,  9.98,  9.99,  9.98,\n",
       "        9.99,  9.97,  9.97,  9.99,  9.98, 10.  ,  9.98,  9.99,  9.99,\n",
       "        9.96,  9.99,  9.99,  9.99,  9.99,  9.97,  9.98,  9.96, 10.  ,\n",
       "       10.  ,  9.96,  9.95, 10.  ,  9.99, 10.  ,  9.98,  9.99,  9.99,\n",
       "        9.97,  9.97,  9.98,  9.98,  9.98, 10.  ,  9.99,  9.99,  9.98,\n",
       "        9.97,  9.99,  9.96,  9.99,  9.97])"
      ]
     },
     "execution_count": 71,
     "metadata": {},
     "output_type": "execute_result"
    }
   ],
   "source": [
    "data"
   ]
  },
  {
   "cell_type": "code",
   "execution_count": 72,
   "id": "1960246e-a8ac-4860-b6a8-5e9c9134beb1",
   "metadata": {},
   "outputs": [],
   "source": [
    "averageAsPercent = data*10"
   ]
  },
  {
   "cell_type": "code",
   "execution_count": 73,
   "id": "c4732858-fbde-4982-ab59-a89ad74e23d5",
   "metadata": {},
   "outputs": [
    {
     "data": {
      "text/plain": [
       "array([ 49.1,  74.3,  89. ,  90.7,  92.3,  94.7,  95.8,  96. ,  97.5,\n",
       "        96.2,  97.7,  97.1,  98.1,  97.7,  98.5,  98.9,  98.3,  98.6,\n",
       "        98.7,  99.6,  98.4,  98.8,  99.3,  98.4,  99. ,  98.8,  99.1,\n",
       "        99.3,  98.9,  99. ,  98.7,  99.1,  99.1,  99.5,  99.3,  98.9,\n",
       "        99.3,  98.6,  99.2,  99. ,  99.5,  99.5,  99.4,  99.6,  99.6,\n",
       "        99.7,  99.4,  99.6,  99.3,  99.4,  99.3,  99.4,  99. ,  99.6,\n",
       "        99.7,  99.2,  99.6,  99.1,  99.5,  99.5,  99.6,  99.5,  99.1,\n",
       "        99.7,  99.8,  99.6,  99.6,  99.9,  99.8,  99.8,  99.5,  99.4,\n",
       "        99.6,  99.4,  99.9,  99.8,  99.2,  99.8,  99.7,  99.5,  99.7,\n",
       "        99.7,  99.8,  99.9,  99.8,  99.9,  99.9,  99.5,  99.9,  99.8,\n",
       "        99.8, 100. ,  99.8,  99.9,  99.8,  99.1,  99.8,  99.9,  99.8,\n",
       "        99.9,  99.7,  99.7,  99.9,  99.8, 100. ,  99.8,  99.9,  99.9,\n",
       "        99.6,  99.9,  99.9,  99.9,  99.9,  99.7,  99.8,  99.6, 100. ,\n",
       "       100. ,  99.6,  99.5, 100. ,  99.9, 100. ,  99.8,  99.9,  99.9,\n",
       "        99.7,  99.7,  99.8,  99.8,  99.8, 100. ,  99.9,  99.9,  99.8,\n",
       "        99.7,  99.9,  99.6,  99.9,  99.7])"
      ]
     },
     "execution_count": 73,
     "metadata": {},
     "output_type": "execute_result"
    }
   ],
   "source": [
    "averageAsPercent"
   ]
  },
  {
   "cell_type": "code",
   "execution_count": 74,
   "id": "94ab5c3b-3122-455e-807c-6f4c4e40d941",
   "metadata": {},
   "outputs": [],
   "source": [
    "stderr_array = np.apply_along_axis(lambda x: np.std(x) / np.sqrt(len(x)), 0, data) * 100.0\n",
    "stderr_array_scipy = np.apply_along_axis(sps.sem, 0, data) * 100.0"
   ]
  },
  {
   "cell_type": "code",
   "execution_count": 75,
   "id": "f2bc4934-8df2-4342-8d4e-dbd9ca0a59bc",
   "metadata": {},
   "outputs": [
    {
     "data": {
      "text/plain": [
       "4.169244736925963"
      ]
     },
     "execution_count": 75,
     "metadata": {},
     "output_type": "execute_result"
    }
   ],
   "source": [
    "stderr_array\n",
    "stderr_array_scipy"
   ]
  },
  {
   "cell_type": "code",
   "execution_count": 76,
   "id": "93d80b73-8b1b-42af-9e07-957e78198988",
   "metadata": {},
   "outputs": [
    {
     "ename": "NameError",
     "evalue": "name 'means' is not defined",
     "output_type": "error",
     "traceback": [
      "\u001b[0;31m---------------------------------------------------------------------------\u001b[0m",
      "\u001b[0;31mNameError\u001b[0m                                 Traceback (most recent call last)",
      "Cell \u001b[0;32mIn[76], line 4\u001b[0m\n\u001b[1;32m      2\u001b[0m plt\u001b[38;5;241m.\u001b[39mfigure(figsize\u001b[38;5;241m=\u001b[39m(\u001b[38;5;241m15\u001b[39m,\u001b[38;5;241m5\u001b[39m));\n\u001b[1;32m      3\u001b[0m \u001b[38;5;66;03m## Use an error bar plot...\u001b[39;00m\n\u001b[0;32m----> 4\u001b[0m plt\u001b[38;5;241m.\u001b[39merrorbar(np\u001b[38;5;241m.\u001b[39marray(\u001b[38;5;28mrange\u001b[39m(\u001b[38;5;28mlen\u001b[39m(data)))\u001b[38;5;241m+\u001b[39m\u001b[38;5;241m1.0\u001b[39m,\u001b[43mmeans\u001b[49m,yerr\u001b[38;5;241m=\u001b[39mstderr);\n\u001b[1;32m      5\u001b[0m \u001b[38;5;66;03m## Fix the axis labels\u001b[39;00m\n\u001b[1;32m      6\u001b[0m plt\u001b[38;5;241m.\u001b[39mxlabel(\u001b[38;5;124m'\u001b[39m\u001b[38;5;124mNumber of Clusters (K)\u001b[39m\u001b[38;5;124m'\u001b[39m);\n",
      "\u001b[0;31mNameError\u001b[0m: name 'means' is not defined"
     ]
    },
    {
     "data": {
      "text/plain": [
       "<Figure size 1500x500 with 0 Axes>"
      ]
     },
     "metadata": {},
     "output_type": "display_data"
    }
   ],
   "source": [
    "## Make the plot bigger to get a better resolution\n",
    "plt.figure(figsize=(15,5));\n",
    "## Use an error bar plot...\n",
    "plt.errorbar(np.array(range(len(data)))+1.0,means,yerr=stderr);\n",
    "## Fix the axis labels\n",
    "plt.xlabel('Number of Clusters (K)');\n",
    "plt.ylabel('Percentage Correct (%) [+- Std. Err.]');"
   ]
  },
  {
   "cell_type": "code",
   "execution_count": null,
   "id": "544cf6ca-aee0-452b-91df-5bcb74952b07",
   "metadata": {},
   "outputs": [],
   "source": []
  }
 ],
 "metadata": {
  "kernelspec": {
   "display_name": "Python 3 (ipykernel)",
   "language": "python",
   "name": "python3"
  },
  "language_info": {
   "codemirror_mode": {
    "name": "ipython",
    "version": 3
   },
   "file_extension": ".py",
   "mimetype": "text/x-python",
   "name": "python",
   "nbconvert_exporter": "python",
   "pygments_lexer": "ipython3",
   "version": "3.11.5"
  }
 },
 "nbformat": 4,
 "nbformat_minor": 5
}
